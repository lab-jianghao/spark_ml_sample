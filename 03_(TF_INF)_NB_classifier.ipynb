{
  "nbformat": 4,
  "nbformat_minor": 0,
  "metadata": {
    "colab": {
      "provenance": [],
      "authorship_tag": "ABX9TyOwICuCHS8c6zx1LzT1ilEb",
      "include_colab_link": true
    },
    "kernelspec": {
      "name": "python3",
      "display_name": "Python 3"
    },
    "language_info": {
      "name": "python"
    }
  },
  "cells": [
    {
      "cell_type": "markdown",
      "metadata": {
        "id": "view-in-github",
        "colab_type": "text"
      },
      "source": [
        "<a href=\"https://colab.research.google.com/github/lab-jianghao/spark_ml_sample/blob/main/03_(TF_INF)_nb_classifier.ipynb\" target=\"_parent\"><img src=\"https://colab.research.google.com/assets/colab-badge.svg\" alt=\"Open In Colab\"/></a>"
      ]
    },
    {
      "cell_type": "code",
      "source": [
        "!apt-get install openjdk-17-jdk-headless\n",
        "\n",
        "!wget https://dlcdn.apache.org/spark/spark-3.5.0/spark-3.5.0-bin-hadoop3.tgz /content\n",
        "!tar xf spark-3.5.0-bin-hadoop3.tgz"
      ],
      "metadata": {
        "id": "H11VlGc-jytO"
      },
      "execution_count": null,
      "outputs": []
    },
    {
      "cell_type": "code",
      "source": [
        "import os\n",
        "os.environ[\"JAVA_HOME\"] = \"/usr/lib/jvm/java-17-openjdk-amd64\"\n",
        "os.environ[\"SPARK_HOME\"] = \"/content/spark-3.5.0-bin-hadoop3\""
      ],
      "metadata": {
        "id": "f8BMHkArkd6D"
      },
      "execution_count": 29,
      "outputs": []
    },
    {
      "cell_type": "code",
      "source": [
        "!pip install pyspark==3.5.0"
      ],
      "metadata": {
        "id": "-Le-8tscl8Wo"
      },
      "execution_count": null,
      "outputs": []
    },
    {
      "cell_type": "code",
      "source": [
        "from pyspark.sql import SparkSession\n",
        "\n",
        "spark = SparkSession.builder\\\n",
        "        .master(\"local[*]\")\\\n",
        "        .appName(\"Colab\")\\\n",
        "        .getOrCreate()"
      ],
      "metadata": {
        "id": "19FMTNvPRmhe"
      },
      "execution_count": 31,
      "outputs": []
    },
    {
      "cell_type": "code",
      "source": [
        "from functools import wraps\n",
        "\n",
        "def spark_sql_initializer(func):\n",
        "    @wraps(func)\n",
        "    def wrapper(*args, **kwargs):\n",
        "\n",
        "        spark = SparkSession.builder\\\n",
        "            .appName(\"Colab_DT\")\\\n",
        "            .master(\"local[*]\")\\\n",
        "            .getOrCreate()\n",
        "\n",
        "        spark.sparkContext.setLogLevel(\"WARN\")\n",
        "\n",
        "        func(spark,*args, **kwargs)\n",
        "\n",
        "        spark.stop()\n",
        "\n",
        "    return wrapper"
      ],
      "metadata": {
        "id": "BofV9Ye8Rox7"
      },
      "execution_count": 32,
      "outputs": []
    },
    {
      "cell_type": "code",
      "source": [
        "from pyspark.sql.functions import substring\n",
        "\n",
        "from pyspark.ml import Pipeline\n",
        "from pyspark.ml.feature import Tokenizer, HashingTF, IDF\n",
        "from pyspark.ml.classification import NaiveBayes\n",
        "from pyspark.ml.evaluation import MulticlassClassificationEvaluator\n",
        "\n",
        "\n",
        "@spark_sql_initializer\n",
        "def train(spark, train_df, test_df):\n",
        "    training_data = spark.createDataFrame(train_df)\n",
        "    test_data = spark.createDataFrame(test_df)\n",
        "\n",
        "    tokenizer = Tokenizer(inputCol=\"text\", outputCol=\"words\")\n",
        "    hashingTF = HashingTF(inputCol=\"words\", outputCol=\"features\")\n",
        "    idf = IDF(inputCol=\"features\", outputCol=\"indexed_features\")\n",
        "\n",
        "    nb = NaiveBayes(featuresCol=\"indexed_features\", labelCol=\"label\", predictionCol=\"prediction\")\n",
        "\n",
        "    nb_pipeline = Pipeline(stages=[tokenizer, hashingTF, idf, nb])\n",
        "    nb_model = nb_pipeline.fit(training_data)\n",
        "\n",
        "    nb_predictions = nb_model.transform(test_data)\n",
        "    evaluator = MulticlassClassificationEvaluator(labelCol=\"label\", predictionCol=\"prediction\", metricName=\"accuracy\")\n",
        "    accuracy = evaluator.evaluate(nb_predictions)\n",
        "    print(\"Test Accuracy = {:.2%}\".format(accuracy))\n",
        "\n",
        "    nb_predictions = nb_predictions.withColumn(\"text_truncated\", substring(\"text\", 1, 100))\n",
        "\n",
        "    nb_predictions.select(\"text_truncated\", \"label\", \"prediction\").show(truncate=False)\n"
      ],
      "metadata": {
        "id": "AmwUhYAJea83"
      },
      "execution_count": 73,
      "outputs": []
    },
    {
      "cell_type": "code",
      "source": [
        "from sklearn.datasets import fetch_20newsgroups\n",
        "\n",
        "import pandas as pd\n",
        "\n",
        "\n",
        "get_data_and_labels = lambda subset: fetch_20newsgroups(\n",
        "    subset=subset, remove=('headers', 'footers'), return_X_y=True)\n",
        "\n",
        "train_data, train_labels = get_data_and_labels('train')\n",
        "test_data, test_labels = get_data_and_labels('test')\n",
        "\n",
        "train_df = pd.DataFrame({\"text\": train_data, \"label\": train_labels})\n",
        "test_df = pd.DataFrame({\"text\": test_data, \"label\": test_labels})\n",
        "\n",
        "\n",
        "train(train_df, test_df)"
      ],
      "metadata": {
        "colab": {
          "base_uri": "https://localhost:8080/"
        },
        "id": "juCWCBIqeksQ",
        "outputId": "b4ed7e71-0f92-4f45-f0b7-7370e41f6a45"
      },
      "execution_count": 74,
      "outputs": [
        {
          "output_type": "stream",
          "name": "stdout",
          "text": [
            "Test Accuracy = 75.09%\n",
            "+-----------------------------------------------------------------------------------------------------------+-----+----------+\n",
            "|text_truncated                                                                                             |label|prediction|\n",
            "+-----------------------------------------------------------------------------------------------------------+-----+----------+\n",
            "|I am a little confused on all of the models of the 88-89 bonnevilles.\\nI have heard of the LE SE LSE       |7    |7.0       |\n",
            "|I'm not familiar at all with the format of these \"X-Face:\" thingies, but\\nafter seeing them in some f      |5    |1.0       |\n",
            "|acooper@mac.cc.macalstr.edu (Turin Turambar, ME Department of Utter Misery) writes:\\n> Did that FAQ e      |0    |0.0       |\n",
            "|In article <benali.737307554@alcor> benali@alcor.concordia.ca ( ILYESS B. BDIRA ) writes:\\n>It looks       |17   |17.0      |\n",
            "|In article <1993Apr21.141259.12012@st-andrews.ac.uk>, nrp@st-andrews.ac.uk (Norman R. Paterson) writ       |19   |0.0       |\n",
            "|In article <1rp8p1$2d3@usenet.INS.CWRU.Edu>, esd3@po.CWRU.Edu (Elisabeth S. Davidson) writes:\\n> \\n> I     |13   |13.0      |\n",
            "|Dishonest money dwindles away, but he who gathers money little by little makes\\nit grow. \\nProverbs 13     |15   |15.0      |\n",
            "|A friend of mine managed to get a copy of a computerised Greek and Hebrew \\nLexicon called \"The Word       |15   |14.0      |\n",
            "|Hi,\\n\\n   We have a requirement for dynamically closing and opening\\ndifferent display servers within a    |5    |5.0       |\n",
            "|Jennifer Lynn Urso (ju23+@andrew.cmu.edu) wrote:\\n:  \\n: well, i have lots of experience with scanning     |1    |1.0       |\n",
            "|I have uploaded the Windows On-Line Review shareware edition to\\nftp.cica.indiana.edu as /pub/pc/win3      |2    |2.0       |\n",
            "|Most graphics systems I have seen have drawing routines that also specify\\na color for drawing, like\\n     |5    |5.0       |\n",
            "|In article <1993May13.201441.23139@nysernet.org> astein@nysernet.org (Alan Stein) writes:\\n>It seems       |17   |17.0      |\n",
            "|In article <speedy.173@engr.latech.edu> speedy@engr.latech.edu (Speedy Mercer) writes:\\n>In article <      |8    |8.0       |\n",
            "|In article <4963@eastman.UUCP>, dps@nasa.kodak.com (Dan Schaertel,,,) writes:\\n> In article 21627@ous      |0    |15.0      |\n",
            "|From article <C68uBG.K2w@world.std.com>, by cfw@world.std.com (Christopher F Wroten):\\n> I have an EI      |2    |3.0       |\n",
            "|Iv'e got a problem printing with a StyleWriterII. I am printing from a IIvx\\nwith 20 megs ram. I am t      |4    |4.0       |\n",
            "|Hello,\\ni'm interested in those devices too.\\nCould also send me your suggestions.\\nThank in advance.\\nR   |1    |3.0       |\n",
            "|I said\\n>Cipher tape drives\\t\\t\\t\\t$10.00 \\nwhat a SILLY boy i was, now i have zillions of messages like\\n\"|6    |6.0       |\n",
            "|I just called Texas' legislative bill tracking service and found out\\nthat HB 1776 (Concealed Carry)       |16   |16.0      |\n",
            "+-----------------------------------------------------------------------------------------------------------+-----+----------+\n",
            "only showing top 20 rows\n",
            "\n"
          ]
        }
      ]
    }
  ]
}
