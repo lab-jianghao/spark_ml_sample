{
  "nbformat": 4,
  "nbformat_minor": 0,
  "metadata": {
    "colab": {
      "provenance": [],
      "authorship_tag": "ABX9TyO7I7HcIyiPALa+HysGAIO+",
      "include_colab_link": true
    },
    "kernelspec": {
      "name": "python3",
      "display_name": "Python 3"
    },
    "language_info": {
      "name": "python"
    }
  },
  "cells": [
    {
      "cell_type": "markdown",
      "metadata": {
        "id": "view-in-github",
        "colab_type": "text"
      },
      "source": [
        "<a href=\"https://colab.research.google.com/github/lab-jianghao/spark_ml_sample/blob/main/05_feature_weights_SVM_classifier.ipynb\" target=\"_parent\"><img src=\"https://colab.research.google.com/assets/colab-badge.svg\" alt=\"Open In Colab\"/></a>"
      ]
    },
    {
      "cell_type": "code",
      "source": [
        "!apt-get install openjdk-17-jdk-headless\n",
        "\n",
        "!wget https://dlcdn.apache.org/spark/spark-3.5.0/spark-3.5.0-bin-hadoop3.tgz /content\n",
        "!tar xf spark-3.5.0-bin-hadoop3.tgz"
      ],
      "metadata": {
        "id": "H11VlGc-jytO"
      },
      "execution_count": null,
      "outputs": []
    },
    {
      "cell_type": "code",
      "source": [
        "import os\n",
        "os.environ[\"JAVA_HOME\"] = \"/usr/lib/jvm/java-17-openjdk-amd64\"\n",
        "os.environ[\"SPARK_HOME\"] = \"/content/spark-3.5.0-bin-hadoop3\""
      ],
      "metadata": {
        "id": "f8BMHkArkd6D"
      },
      "execution_count": 47,
      "outputs": []
    },
    {
      "cell_type": "code",
      "source": [
        "!pip install pyspark==3.5.0"
      ],
      "metadata": {
        "id": "-Le-8tscl8Wo"
      },
      "execution_count": null,
      "outputs": []
    },
    {
      "cell_type": "code",
      "source": [
        "from pyspark.sql import SparkSession\n",
        "\n",
        "spark = SparkSession.builder\\\n",
        "        .master(\"local[*]\")\\\n",
        "        .appName(\"Colab\")\\\n",
        "        .getOrCreate()"
      ],
      "metadata": {
        "id": "19FMTNvPRmhe"
      },
      "execution_count": 49,
      "outputs": []
    },
    {
      "cell_type": "code",
      "source": [
        "from functools import wraps\n",
        "\n",
        "def spark_sql_initializer(func):\n",
        "    @wraps(func)\n",
        "    def wrapper(*args, **kwargs):\n",
        "\n",
        "        spark = SparkSession.builder\\\n",
        "            .appName(\"Colab_DT\")\\\n",
        "            .master(\"local[*]\")\\\n",
        "            .getOrCreate()\n",
        "\n",
        "        spark.sparkContext.setLogLevel(\"WARN\")\n",
        "\n",
        "        func(spark,*args, **kwargs)\n",
        "\n",
        "        spark.stop()\n",
        "\n",
        "    return wrapper"
      ],
      "metadata": {
        "id": "BofV9Ye8Rox7"
      },
      "execution_count": 50,
      "outputs": []
    },
    {
      "cell_type": "code",
      "source": [
        "!pip install openml"
      ],
      "metadata": {
        "id": "CUs9UMRu_Tho"
      },
      "execution_count": null,
      "outputs": []
    },
    {
      "cell_type": "code",
      "execution_count": 56,
      "metadata": {
        "colab": {
          "base_uri": "https://localhost:8080/"
        },
        "id": "QYSiX-vU-ozP",
        "outputId": "d54d99dd-aecc-4d47-b877-8687b13f850c"
      },
      "outputs": [
        {
          "output_type": "stream",
          "name": "stdout",
          "text": [
            "Name: credit-g\n",
            "Description: **Author**: Dr. Hans Hofmann  \n",
            "**Source**: [UCI](https://archive.ics.uci.edu/ml/datasets/statlog+(german+credit+data)) - 1994    \n",
            "**Please cite**: [UCI](https://archive.ics.uci.edu/ml/citation_policy.html)\n",
            "\n",
            "**German Credit dataset**  \n",
            "This dataset classifies people described by a set of attributes as good or bad credit risks.\n",
            "\n",
            "This dataset comes with a cost matrix: \n",
            "``` \n",
            "Good  Bad (predicted)  \n",
            "Good   0    1   (actual)  \n",
            "Bad    5    0  \n",
            "```\n",
            "\n",
            "It is worse to class a customer as good when they are bad (5), than it is to class a customer as bad when they are good (1).  \n",
            "\n",
            "### Attribute description  \n",
            "\n",
            "1. Status of existing checking account, in Deutsche Mark.  \n",
            "2. Duration in months  \n",
            "3. Credit history (credits taken, paid back duly, delays, critical accounts)  \n",
            "4. Purpose of the credit (car, television,...)  \n",
            "5. Credit amount  \n",
            "6. Status of savings account/bonds, in Deutsche Mark.  \n",
            "7. Present employment, in number of years.  \n",
            "8. Installment rate in percentage of disposable income  \n",
            "9. Personal status (married, single,...) and sex  \n",
            "10. Other debtors / guarantors  \n",
            "11. Present residence since X years  \n",
            "12. Property (e.g. real estate)  \n",
            "13. Age in years  \n",
            "14. Other installment plans (banks, stores)  \n",
            "15. Housing (rent, own,...)  \n",
            "16. Number of existing credits at this bank  \n",
            "17. Job  \n",
            "18. Number of people being liable to provide maintenance for  \n",
            "19. Telephone (yes,no)  \n",
            "20. Foreign worker (yes,no)\n",
            "Number of features: {0: [0 - checking_status (nominal)], 1: [1 - duration (numeric)], 2: [2 - credit_history (nominal)], 3: [3 - purpose (nominal)], 4: [4 - credit_amount (numeric)], 5: [5 - savings_status (nominal)], 6: [6 - employment (nominal)], 7: [7 - installment_commitment (numeric)], 8: [8 - personal_status (nominal)], 9: [9 - other_parties (nominal)], 10: [10 - residence_since (numeric)], 11: [11 - property_magnitude (nominal)], 12: [12 - age (numeric)], 13: [13 - other_payment_plans (nominal)], 14: [14 - housing (nominal)], 15: [15 - existing_credits (numeric)], 16: [16 - job (nominal)], 17: [17 - num_dependents (numeric)], 18: [18 - own_telephone (nominal)], 19: [19 - foreign_worker (nominal)], 20: [20 - class (nominal)]}\n",
            "Number of instances: 1000.0\n",
            "  checking_status  duration                  credit_history  \\\n",
            "0              <0         6  critical/other existing credit   \n",
            "1        0<=X<200        48                   existing paid   \n",
            "2     no checking        12  critical/other existing credit   \n",
            "3              <0        42                   existing paid   \n",
            "4              <0        24              delayed previously   \n",
            "\n",
            "               purpose  credit_amount    savings_status employment  \\\n",
            "0             radio/tv         1169.0  no known savings        >=7   \n",
            "1             radio/tv         5951.0              <100     1<=X<4   \n",
            "2            education         2096.0              <100     4<=X<7   \n",
            "3  furniture/equipment         7882.0              <100     4<=X<7   \n",
            "4              new car         4870.0              <100     1<=X<4   \n",
            "\n",
            "   installment_commitment     personal_status other_parties  ...  \\\n",
            "0                       4         male single          none  ...   \n",
            "1                       2  female div/dep/mar          none  ...   \n",
            "2                       2         male single          none  ...   \n",
            "3                       2         male single     guarantor  ...   \n",
            "4                       3         male single          none  ...   \n",
            "\n",
            "   property_magnitude age  other_payment_plans   housing existing_credits  \\\n",
            "0         real estate  67                 none       own                2   \n",
            "1         real estate  22                 none       own                1   \n",
            "2         real estate  49                 none       own                1   \n",
            "3      life insurance  45                 none  for free                1   \n",
            "4   no known property  53                 none  for free                2   \n",
            "\n",
            "                  job num_dependents  own_telephone foreign_worker class  \n",
            "0             skilled              1            yes            yes  good  \n",
            "1             skilled              1           none            yes   bad  \n",
            "2  unskilled resident              2           none            yes  good  \n",
            "3             skilled              2           none            yes  good  \n",
            "4             skilled              2           none            yes   bad  \n",
            "\n",
            "[5 rows x 21 columns]\n"
          ]
        },
        {
          "output_type": "stream",
          "name": "stderr",
          "text": [
            "/usr/local/lib/python3.10/dist-packages/openml/datasets/functions.py:438: FutureWarning: Starting from Version 0.15 `download_data`, `download_qualities`, and `download_features_meta_data` will all be ``False`` instead of ``True`` by default to enable lazy loading. To disable this message until version 0.15 explicitly set `download_data`, `download_qualities`, and `download_features_meta_data` to a bool while calling `get_dataset`.\n",
            "  warnings.warn(\n"
          ]
        }
      ],
      "source": [
        "import openml\n",
        "import pandas as pd\n",
        "\n",
        "dataset = openml.datasets.get_dataset(31, version=1.0)\n",
        "\n",
        "print(\"Name:\", dataset.name)\n",
        "print(\"Description:\", dataset.description)\n",
        "print(\"Number of features:\", dataset.features)\n",
        "print(\"Number of instances:\", dataset.qualities[\"NumberOfInstances\"])\n",
        "\n",
        "\n",
        "X, y, _, _ = dataset.get_data(target=dataset.default_target_attribute, dataset_format='dataframe')\n",
        "credit_risk_df = pd.concat([X, y], axis=1)\n",
        "\n",
        "# print(\"DataFrame with features and labels:\")\n",
        "print(credit_risk_df.head())\n"
      ]
    },
    {
      "cell_type": "code",
      "source": [
        "from functools import reduce\n",
        "\n",
        "from pyspark.ml import Pipeline\n",
        "from pyspark.ml.classification import LinearSVC\n",
        "from pyspark.ml.feature import StringIndexer, VectorAssembler, IndexToString\n",
        "from pyspark.ml.evaluation import MulticlassClassificationEvaluator\n",
        "\n",
        "\n",
        "from pyspark.sql.functions import col\n",
        "\n",
        "@spark_sql_initializer\n",
        "def train_print_weights(spark, df):\n",
        "    credit_risk_df = spark.createDataFrame(df)\n",
        "    credit_risk_df.show()\n",
        "\n",
        "    index_columns = credit_risk_df.columns[:-1]\n",
        "    credit_risk_df = credit_risk_df.withColumnRenamed(\"class\", \"label\")\n",
        "\n",
        "    feature_indexes = [StringIndexer(inputCol=col, outputCol=f\"indexed_{col}\", handleInvalid=\"keep\") for col in index_columns]\n",
        "    for indexer in feature_indexes:\n",
        "        credit_risk_df = indexer.fit(credit_risk_df).transform(credit_risk_df)\n",
        "\n",
        "    vector_assembler = VectorAssembler(\n",
        "        inputCols=list(map(lambda idx_col: f\"indexed_{idx_col}\", index_columns)), outputCol=\"features\")\n",
        "    # credit_risk_df = vector_assembler.transform(credit_risk_df)\n",
        "    credit_risk_df = credit_risk_df.drop(*list(map(lambda idx_col: f\"indexed_{idx_col}\", index_columns)))\n",
        "    # credit_risk_df.show()\n",
        "\n",
        "    label_indexer = StringIndexer(inputCol=\"label\", outputCol=\"indexed_label\").fit(credit_risk_df)\n",
        "    label_converter = IndexToString(inputCol=\"prediction\", outputCol=\"predictedLabel\", labels=label_indexer.labels)\n",
        "\n",
        "    svm_classifier = LinearSVC(labelCol=\"indexed_label\", featuresCol=\"features\")\n",
        "\n",
        "    training_data, test_data = credit_risk_df.randomSplit([0.7, 0.3], seed=1122)\n",
        "\n",
        "    svm_pipeline = Pipeline(\n",
        "        stages=feature_indexes + [vector_assembler, label_indexer, svm_classifier, label_converter])\n",
        "    svm_model = svm_pipeline.fit(training_data)\n",
        "\n",
        "    svm_prediction = svm_model.transform(test_data)\n",
        "    evaluator = MulticlassClassificationEvaluator(labelCol=\"indexed_label\", predictionCol=\"prediction\", metricName=\"accuracy\")\n",
        "    accuracy = evaluator.evaluate(svm_prediction)\n",
        "    print(\"Test Accuracy = {:.2%}\".format(accuracy))\n",
        "\n",
        "    svm_prediction.select(\"label\", \"predictedLabel\").show()\n",
        "\n",
        "\n",
        "    feature_weights = svm_model.stages[-2].coefficients\n",
        "    feature_weights_dict = dict(zip(index_columns, feature_weights))\n",
        "\n",
        "    sorted_weights = sorted(feature_weights_dict.items(), key=lambda x: abs(x[1]), reverse=True)\n",
        "\n",
        "    print(\"Feature Weights:\")\n",
        "    for feature, weight in sorted_weights:\n",
        "        print(f\"{feature}: {weight}\")\n",
        "\n",
        "    # dt_model.write().overwrite().save(\"file:///content/model/RandomForest\")\n"
      ],
      "metadata": {
        "id": "vzCgfj04IAUS"
      },
      "execution_count": 78,
      "outputs": []
    },
    {
      "cell_type": "code",
      "source": [
        "train_print_weights(credit_risk_df)"
      ],
      "metadata": {
        "colab": {
          "base_uri": "https://localhost:8080/"
        },
        "id": "FiN5Qs-fImeJ",
        "outputId": "18569268-2fdd-47d5-bf14-b4ae636e3b05"
      },
      "execution_count": 79,
      "outputs": [
        {
          "output_type": "stream",
          "name": "stdout",
          "text": [
            "+---------------+--------+--------------------+-------------------+-------------+----------------+----------+----------------------+------------------+-------------+---------------+------------------+---+-------------------+--------+----------------+--------------------+--------------+-------------+--------------+-----+\n",
            "|checking_status|duration|      credit_history|            purpose|credit_amount|  savings_status|employment|installment_commitment|   personal_status|other_parties|residence_since|property_magnitude|age|other_payment_plans| housing|existing_credits|                 job|num_dependents|own_telephone|foreign_worker|class|\n",
            "+---------------+--------+--------------------+-------------------+-------------+----------------+----------+----------------------+------------------+-------------+---------------+------------------+---+-------------------+--------+----------------+--------------------+--------------+-------------+--------------+-----+\n",
            "|             <0|       6|critical/other ex...|           radio/tv|       1169.0|no known savings|       >=7|                     4|       male single|         none|              4|       real estate| 67|               none|     own|               2|             skilled|             1|          yes|           yes| good|\n",
            "|       0<=X<200|      48|       existing paid|           radio/tv|       5951.0|            <100|    1<=X<4|                     2|female div/dep/mar|         none|              2|       real estate| 22|               none|     own|               1|             skilled|             1|         none|           yes|  bad|\n",
            "|    no checking|      12|critical/other ex...|          education|       2096.0|            <100|    4<=X<7|                     2|       male single|         none|              3|       real estate| 49|               none|     own|               1|  unskilled resident|             2|         none|           yes| good|\n",
            "|             <0|      42|       existing paid|furniture/equipment|       7882.0|            <100|    4<=X<7|                     2|       male single|    guarantor|              4|    life insurance| 45|               none|for free|               1|             skilled|             2|         none|           yes| good|\n",
            "|             <0|      24|  delayed previously|            new car|       4870.0|            <100|    1<=X<4|                     3|       male single|         none|              4| no known property| 53|               none|for free|               2|             skilled|             2|         none|           yes|  bad|\n",
            "|    no checking|      36|       existing paid|          education|       9055.0|no known savings|    1<=X<4|                     2|       male single|         none|              4| no known property| 35|               none|for free|               1|  unskilled resident|             2|          yes|           yes| good|\n",
            "|    no checking|      24|       existing paid|furniture/equipment|       2835.0|     500<=X<1000|       >=7|                     3|       male single|         none|              4|    life insurance| 53|               none|     own|               1|             skilled|             1|         none|           yes| good|\n",
            "|       0<=X<200|      36|       existing paid|           used car|       6948.0|            <100|    1<=X<4|                     2|       male single|         none|              2|               car| 35|               none|    rent|               1|high qualif/self ...|             1|          yes|           yes| good|\n",
            "|    no checking|      12|       existing paid|           radio/tv|       3059.0|          >=1000|    4<=X<7|                     2|      male div/sep|         none|              4|       real estate| 61|               none|     own|               1|  unskilled resident|             1|         none|           yes| good|\n",
            "|       0<=X<200|      30|critical/other ex...|            new car|       5234.0|            <100|unemployed|                     4|      male mar/wid|         none|              2|               car| 28|               none|     own|               2|high qualif/self ...|             1|         none|           yes|  bad|\n",
            "|       0<=X<200|      12|       existing paid|            new car|       1295.0|            <100|        <1|                     3|female div/dep/mar|         none|              1|               car| 25|               none|    rent|               1|             skilled|             1|         none|           yes|  bad|\n",
            "|             <0|      48|       existing paid|           business|       4308.0|            <100|        <1|                     3|female div/dep/mar|         none|              4|    life insurance| 24|               none|    rent|               1|             skilled|             1|         none|           yes|  bad|\n",
            "|       0<=X<200|      12|       existing paid|           radio/tv|       1567.0|            <100|    1<=X<4|                     1|female div/dep/mar|         none|              1|               car| 22|               none|     own|               1|             skilled|             1|          yes|           yes| good|\n",
            "|             <0|      24|critical/other ex...|            new car|       1199.0|            <100|       >=7|                     4|       male single|         none|              4|               car| 60|               none|     own|               2|  unskilled resident|             1|         none|           yes|  bad|\n",
            "|             <0|      15|       existing paid|            new car|       1403.0|            <100|    1<=X<4|                     2|female div/dep/mar|         none|              4|               car| 28|               none|    rent|               1|             skilled|             1|         none|           yes| good|\n",
            "|             <0|      24|       existing paid|           radio/tv|       1282.0|      100<=X<500|    1<=X<4|                     4|female div/dep/mar|         none|              2|               car| 32|               none|     own|               1|  unskilled resident|             1|         none|           yes|  bad|\n",
            "|    no checking|      24|critical/other ex...|           radio/tv|       2424.0|no known savings|       >=7|                     4|       male single|         none|              4|    life insurance| 53|               none|     own|               2|             skilled|             1|         none|           yes| good|\n",
            "|             <0|      30| no credits/all paid|           business|       8072.0|no known savings|        <1|                     2|       male single|         none|              3|               car| 25|               bank|     own|               3|             skilled|             1|         none|           yes| good|\n",
            "|       0<=X<200|      24|       existing paid|           used car|      12579.0|            <100|       >=7|                     4|female div/dep/mar|         none|              2| no known property| 44|               none|for free|               1|high qualif/self ...|             1|          yes|           yes|  bad|\n",
            "|    no checking|      24|       existing paid|           radio/tv|       3430.0|     500<=X<1000|       >=7|                     3|       male single|         none|              2|               car| 31|               none|     own|               1|             skilled|             2|          yes|           yes| good|\n",
            "+---------------+--------+--------------------+-------------------+-------------+----------------+----------+----------------------+------------------+-------------+---------------+------------------+---+-------------------+--------+----------------+--------------------+--------------+-------------+--------------+-----+\n",
            "only showing top 20 rows\n",
            "\n",
            "Test Accuracy = 73.00%\n",
            "+-----+--------------+\n",
            "|label|predictedLabel|\n",
            "+-----+--------------+\n",
            "| good|          good|\n",
            "|  bad|          good|\n",
            "|  bad|          good|\n",
            "|  bad|           bad|\n",
            "|  bad|          good|\n",
            "| good|          good|\n",
            "| good|          good|\n",
            "| good|          good|\n",
            "| good|          good|\n",
            "| good|          good|\n",
            "| good|          good|\n",
            "| good|          good|\n",
            "|  bad|          good|\n",
            "| good|          good|\n",
            "| good|          good|\n",
            "|  bad|          good|\n",
            "| good|          good|\n",
            "| good|          good|\n",
            "| good|          good|\n",
            "| good|          good|\n",
            "+-----+--------------+\n",
            "only showing top 20 rows\n",
            "\n",
            "Feature Weights:\n",
            "foreign_worker: -0.5905099735533916\n",
            "checking_status: 0.27041789929743215\n",
            "housing: 0.2624949983097973\n",
            "credit_history: 0.24394643530654492\n",
            "personal_status: 0.2102885751231866\n",
            "num_dependents: 0.1999090508863738\n",
            "own_telephone: -0.15316306586918513\n",
            "installment_commitment: -0.14084855724294734\n",
            "existing_credits: -0.13240367227817296\n",
            "other_parties: 0.130978551152487\n",
            "savings_status: -0.09353750540482643\n",
            "residence_since: -0.08491533855179646\n",
            "other_payment_plans: 0.05514406584349283\n",
            "job: 0.052791496576042006\n",
            "property_magnitude: 0.016431952011922078\n",
            "age: -0.008760058854625566\n",
            "duration: -0.002886756331088166\n",
            "purpose: -0.0023035329492891513\n",
            "employment: -0.0013545758527421044\n",
            "credit_amount: 0.0005341585380512804\n"
          ]
        }
      ]
    }
  ]
}