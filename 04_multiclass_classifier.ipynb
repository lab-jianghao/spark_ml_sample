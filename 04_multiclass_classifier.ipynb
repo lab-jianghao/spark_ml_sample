{
  "nbformat": 4,
  "nbformat_minor": 0,
  "metadata": {
    "colab": {
      "provenance": [],
      "authorship_tag": "ABX9TyNJ12r9wIcmpcMAIi0WbThr",
      "include_colab_link": true
    },
    "kernelspec": {
      "name": "python3",
      "display_name": "Python 3"
    },
    "language_info": {
      "name": "python"
    }
  },
  "cells": [
    {
      "cell_type": "markdown",
      "metadata": {
        "id": "view-in-github",
        "colab_type": "text"
      },
      "source": [
        "<a href=\"https://colab.research.google.com/github/lab-jianghao/spark_ml_sample/blob/main/04_handwrite_digit_MLP_classifier.ipynb\" target=\"_parent\"><img src=\"https://colab.research.google.com/assets/colab-badge.svg\" alt=\"Open In Colab\"/></a>"
      ]
    },
    {
      "cell_type": "code",
      "source": [
        "!apt-get install openjdk-17-jdk-headless\n",
        "\n",
        "!wget https://dlcdn.apache.org/spark/spark-3.5.0/spark-3.5.0-bin-hadoop3.tgz /content\n",
        "!tar xf spark-3.5.0-bin-hadoop3.tgz"
      ],
      "metadata": {
        "id": "H11VlGc-jytO"
      },
      "execution_count": null,
      "outputs": []
    },
    {
      "cell_type": "code",
      "source": [
        "import os\n",
        "os.environ[\"JAVA_HOME\"] = \"/usr/lib/jvm/java-17-openjdk-amd64\"\n",
        "os.environ[\"SPARK_HOME\"] = \"/content/spark-3.5.0-bin-hadoop3\""
      ],
      "metadata": {
        "id": "f8BMHkArkd6D"
      },
      "execution_count": 2,
      "outputs": []
    },
    {
      "cell_type": "code",
      "source": [
        "!pip install pyspark==3.5.0"
      ],
      "metadata": {
        "id": "-Le-8tscl8Wo"
      },
      "execution_count": null,
      "outputs": []
    },
    {
      "cell_type": "code",
      "source": [
        "from functools import wraps\n",
        "\n",
        "from pyspark.sql import SparkSession\n",
        "\n",
        "\n",
        "def spark_sql_initializer(func):\n",
        "    @wraps(func)\n",
        "    def wrapper(*args, **kwargs):\n",
        "\n",
        "        spark = SparkSession.builder\\\n",
        "            .appName(\"Colab_DT\")\\\n",
        "            .master(\"local[*]\")\\\n",
        "            .getOrCreate()\n",
        "\n",
        "        spark.sparkContext.setLogLevel(\"WARN\")\n",
        "\n",
        "        func(spark,*args, **kwargs)\n",
        "\n",
        "        spark.stop()\n",
        "\n",
        "    return wrapper"
      ],
      "metadata": {
        "id": "BofV9Ye8Rox7"
      },
      "execution_count": 4,
      "outputs": []
    },
    {
      "cell_type": "code",
      "source": [
        "import matplotlib.pyplot as plt\n",
        "\n",
        "from sklearn.datasets import load_digits\n",
        "\n",
        "digits = load_digits()\n",
        "\n",
        "images = digits.images\n",
        "labels = digits.target\n",
        "\n",
        "\n",
        "for i in range(2):\n",
        "    data = images[i].reshape(8, 8)\n",
        "    print(data)\n",
        "    print(\"------------------------------------\")\n",
        "\n",
        "    plt.subplot(1, 2, i + 1)\n",
        "    plt.imshow(images[i], cmap='gray')\n",
        "    plt.title(f\"Label: {labels[i]}\")\n",
        "    plt.axis('off')\n",
        "\n",
        "plt.show()\n"
      ],
      "metadata": {
        "colab": {
          "base_uri": "https://localhost:8080/",
          "height": 605
        },
        "id": "SxC2IViOrPgU",
        "outputId": "a2b85489-37b0-4e47-d772-66b1ba67bc81"
      },
      "execution_count": 9,
      "outputs": [
        {
          "output_type": "stream",
          "name": "stdout",
          "text": [
            "[[ 0.  0.  5. 13.  9.  1.  0.  0.]\n",
            " [ 0.  0. 13. 15. 10. 15.  5.  0.]\n",
            " [ 0.  3. 15.  2.  0. 11.  8.  0.]\n",
            " [ 0.  4. 12.  0.  0.  8.  8.  0.]\n",
            " [ 0.  5.  8.  0.  0.  9.  8.  0.]\n",
            " [ 0.  4. 11.  0.  1. 12.  7.  0.]\n",
            " [ 0.  2. 14.  5. 10. 12.  0.  0.]\n",
            " [ 0.  0.  6. 13. 10.  0.  0.  0.]]\n",
            "------------------------------------\n",
            "[[ 0.  0.  0. 12. 13.  5.  0.  0.]\n",
            " [ 0.  0.  0. 11. 16.  9.  0.  0.]\n",
            " [ 0.  0.  3. 15. 16.  6.  0.  0.]\n",
            " [ 0.  7. 15. 16. 16.  2.  0.  0.]\n",
            " [ 0.  0.  1. 16. 16.  3.  0.  0.]\n",
            " [ 0.  0.  1. 16. 16.  6.  0.  0.]\n",
            " [ 0.  0.  1. 16. 16.  6.  0.  0.]\n",
            " [ 0.  0.  0. 11. 16. 10.  0.  0.]]\n",
            "------------------------------------\n"
          ]
        },
        {
          "output_type": "display_data",
          "data": {
            "text/plain": [
              "<Figure size 640x480 with 2 Axes>"
            ],
            "image/png": "[encoded data removed]"
          },
          "metadata": {}
        }
      ]
    },
    {
      "cell_type": "code",
      "source": [
        "from pyspark.ml import Pipeline\n",
        "from pyspark.ml.classification import MultilayerPerceptronClassifier\n",
        "from pyspark.ml.feature import VectorAssembler\n",
        "from pyspark.ml.evaluation import MulticlassClassificationEvaluator\n",
        "\n",
        "\n",
        "@spark_sql_initializer\n",
        "def train(spark, df):\n",
        "    digits_df = spark.createDataFrame(df)\n",
        "\n",
        "    feature_columns = digits_df.columns[:-1]\n",
        "\n",
        "    vector_assembler = VectorAssembler(inputCols=feature_columns, outputCol=\"features\")\n",
        "\n",
        "    layers=[len(feature_columns), 36, 18, 10]\n",
        "\n",
        "    mlp_classifier = MultilayerPerceptronClassifier(\n",
        "        labelCol=\"label\", featuresCol=\"features\", predictionCol=\"prediction\", maxIter=100, layers=layers, seed=2023)\n",
        "\n",
        "\n",
        "    mlp_pipeline = Pipeline(stages=[vector_assembler, mlp_classifier])\n",
        "\n",
        "    training_data, test_data = digits_df.randomSplit([0.7, 0.3])\n",
        "\n",
        "    mlp_model = mlp_pipeline.fit(training_data)\n",
        "    mlp_prediction = mlp_model.transform(test_data)\n",
        "\n",
        "    evaluator = MulticlassClassificationEvaluator(labelCol=\"label\", predictionCol=\"prediction\", metricName=\"accuracy\")\n",
        "    accuracy = evaluator.evaluate(mlp_prediction)\n",
        "\n",
        "    print(\"Test Accuracy = {:.2%}\".format(accuracy))\n",
        "\n",
        "    mlp_prediction.select(\"label\", \"prediction\").show()\n",
        "\n",
        "    mlp_model.write().overwrite().save(\"file:///content/gdrive/MyDrive/model/MultilayerPerceptron\")"
      ],
      "metadata": {
        "id": "kK5BwZNKxHQK"
      },
      "execution_count": 13,
      "outputs": []
    },
    {
      "cell_type": "code",
      "source": [
        "import os\n",
        "from google.colab import drive\n",
        "\n",
        "MOUNTPOINT = '/content/gdrive'\n",
        "DATADIR = os.path.join(MOUNTPOINT, 'My Drive', 'myfolder')\n",
        "drive.mount(MOUNTPOINT)"
      ],
      "metadata": {
        "colab": {
          "base_uri": "https://localhost:8080/"
        },
        "id": "u4zN9BUTTHk4",
        "outputId": "56f335c6-76c5-45c7-9126-b5fcd059136c"
      },
      "execution_count": 12,
      "outputs": [
        {
          "output_type": "stream",
          "name": "stdout",
          "text": [
            "Mounted at /content/gdrive\n"
          ]
        }
      ]
    },
    {
      "cell_type": "code",
      "source": [
        "import pandas as pd\n",
        "\n",
        "digits_df = pd.DataFrame(digits.data, columns=[f\"feature_{i}\" for i in range(digits.data.shape[1])])\n",
        "digits_df[\"label\"] = digits.target\n",
        "\n",
        "train(digits_df)"
      ],
      "metadata": {
        "colab": {
          "base_uri": "https://localhost:8080/"
        },
        "id": "dV-dzLOd0c4R",
        "outputId": "0dfeb892-0701-4562-ee76-73c9055e003d"
      },
      "execution_count": 17,
      "outputs": [
        {
          "output_type": "stream",
          "name": "stdout",
          "text": [
            "Test Accuracy = 94.20%\n",
            "+-----+----------+\n",
            "|label|prediction|\n",
            "+-----+----------+\n",
            "|    9|       4.0|\n",
            "|    4|       4.0|\n",
            "|    9|       9.0|\n",
            "|    4|       4.0|\n",
            "|    2|       1.0|\n",
            "|    4|       4.0|\n",
            "|    1|       1.0|\n",
            "|    1|       1.0|\n",
            "|    1|       1.0|\n",
            "|    1|       1.0|\n",
            "|    4|       4.0|\n",
            "|    4|       4.0|\n",
            "|    9|       9.0|\n",
            "|    4|       4.0|\n",
            "|    4|       4.0|\n",
            "|    4|       4.0|\n",
            "|    1|       1.0|\n",
            "|    2|       2.0|\n",
            "|    4|       4.0|\n",
            "|    1|       1.0|\n",
            "+-----+----------+\n",
            "only showing top 20 rows\n",
            "\n"
          ]
        }
      ]
    }
  ]
}
